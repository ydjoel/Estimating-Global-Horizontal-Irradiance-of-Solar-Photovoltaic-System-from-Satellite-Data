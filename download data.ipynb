{
 "cells": [
  {
   "cell_type": "code",
   "execution_count": null,
   "metadata": {},
   "outputs": [],
   "source": [
    "import json\n",
    "import cdsapi\n",
    "import requests\n",
    "import pandas as pd\n",
    "from datetime import datetime"
   ]
  },
  {
   "cell_type": "code",
   "execution_count": null,
   "metadata": {},
   "outputs": [],
   "source": [
    "year = ['2014','2015','2016','2017','2018','2019','2020']\n",
    "\n",
    "for i in year:\n",
    "    sat_client = cdsapi.Client() # Open a satellite client instance\n",
    "    sat_request = sat_client.retrieve( # Make the satellite api call\n",
    "    'reanalysis-era5-single-levels', # ERA5 data set\n",
    "    {\n",
    "            \n",
    "            'variable':'surface_solar_radiation_downwards ',\n",
    "            'product_type':'reanalysis',\n",
    "            'year':i,\n",
    "            'month':['01','02','03','04','05','06','07','08','09','10',\n",
    "                    '11','12'],\n",
    "            'day':['01','02','03','04','05','06','07','08','09','10',\n",
    "                    '11','12','13','14','15','16','17','18','19','20',\n",
    "                    '21','22','23','24','25','26','27','28','29','30',\n",
    "                    '31'],\n",
    "            'time':['00:00','01:00','02:00','03:00','04:00','05:00',\n",
    "                    '06:00','07:00','08:00','09:00','10:00','11:00',\n",
    "                    '12:00','13:00','14:00','15:00','16:00','17:00',\n",
    "                    '18:00','19:00','20:00','21:00','22:00','23:00'],\n",
    "            'area':'53.7/-6.5/53.2/-6',\n",
    "            'format':'netcdf'\n",
    "    })\n",
    "\n",
    "    # Download request and store satellite data in netcdf file\n",
    "    sat_request.download('Dublin' + '_surface_solar_radiation_downwards_' + str(i) + '.nc') "
   ]
  }
 ],
 "metadata": {
  "language_info": {
   "name": "python"
  },
  "orig_nbformat": 4
 },
 "nbformat": 4,
 "nbformat_minor": 2
}
